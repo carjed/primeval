{
 "cells": [
  {
   "cell_type": "markdown",
   "metadata": {},
   "source": [
    "# Simulations for evaluating archaic ancestry inference"
   ]
  },
  {
   "cell_type": "code",
   "execution_count": 317,
   "metadata": {},
   "outputs": [],
   "source": [
    "# run in archanc root directory\n",
    "import os\n",
    "# proj_dir = os.getcwd()\n",
    "proj_dir = \"/mnt/norbert/home/jedidiah/projects/archanc\"\n",
    "msprime_dir = proj_dir +\"/output/msprime/\"\n",
    "archie_src_dir = proj_dir + \"/src/ArchIE/\"\n",
    "archie_out_dir = proj_dir + \"/output/ArchIE/\""
   ]
  },
  {
   "cell_type": "code",
   "execution_count": 1,
   "metadata": {},
   "outputs": [],
   "source": [
    "import sys\n",
    "sys.path.insert(0, proj_dir + 'src/stdpopsim')\n",
    "\n",
    "from stdpopsim import homo_sapiens\n",
    "import msprime\n",
    "import itertools\n",
    "from random import *\n",
    "import numpy as np\n",
    "import pandas as pd\n",
    "import math"
   ]
  },
  {
   "cell_type": "markdown",
   "metadata": {},
   "source": [
    "## Function for simulating MNMs on tree"
   ]
  },
  {
   "cell_type": "markdown",
   "metadata": {},
   "source": [
    "Randomly select a fraction of variant sites to be MNMs. The second mutation in each MNM is randomly placed from 1-100bp downstream of the first, and the genotypes of the first mutation are duplicated. \n",
    "\n",
    "To-do: separate functions for the MNM simulation from .snp and .geno file generation"
   ]
  },
  {
   "cell_type": "code",
   "execution_count": 331,
   "metadata": {},
   "outputs": [],
   "source": [
    "def add_mnms(ts, model_label, output_dir=\"./\", pop_label=\"pop1\", rep_label=0, mnm_dist=100, mnm_frac=0.015):\n",
    "    \n",
    "    # .snp file names are underscore-delimited with model, population MNM parameters (dash-delimited with distance & fraction), and replicate label\n",
    "    # .geno file names add the population label\n",
    "#     prefix = model_label+\"_\"+pop_label+\"_mnm\"+str(mnm_dist)+\"-\"+str(mnm_frac)+\"_\"+str(rep_label)\n",
    "    prefix = model_label+\"_mnm\"+str(mnm_dist)+\"-\"+str(mnm_frac)+\"_\"+str(rep_label)\n",
    "    \n",
    "    geno = np.zeros(200, dtype=np.int8)\n",
    "#     eur_geno = np.zeros(100, dtype=np.int8)\n",
    "#     afr_geno = np.zeros(100, dtype=np.int8)\n",
    "\n",
    "    with open(output_dir + prefix + \".snp\", \"w\") as text_file:\n",
    "        for variant in list(ts.variants()):\n",
    "            print(\"\\t\".join([\"1:\"+str(round(variant.site.position)), \n",
    "                             \"1\", \n",
    "                             str(variant.site.position/10e6), \n",
    "                             str(round(variant.site.position)), \n",
    "                             \"A\", \n",
    "                             \"G\"]), file=text_file)\n",
    "            geno = np.vstack([geno, variant.genotypes])\n",
    "\n",
    "            if random() < mnm_frac:\n",
    "                dist = randint(1,mnm_dist)\n",
    "                mnm_cand = variant.site.position+dist \n",
    "\n",
    "                print(\"\\t\".join([\"1:\"+str(round(mnm_cand)), \n",
    "                                 \"1\", \n",
    "                                 str(mnm_cand/10e6), \n",
    "                                 str(round(mnm_cand)), \n",
    "                                 \"A\", \n",
    "                                 \"G\"]), file=text_file)\n",
    "                geno = np.vstack([geno, variant.genotypes])\n",
    "\n",
    "    # delete empty first row used to initialize genotype matrix            \n",
    "    geno = np.delete(geno, (0), axis=0)\n",
    "    \n",
    "    geno_afr = geno[:,:100]\n",
    "    geno_eur = geno[:,101:200]\n",
    "    \n",
    "    geno_pop = [geno_afr, geno_eur]\n",
    "    \n",
    "    for i, pop in enumerate([\"afr\", \"eur\"]):\n",
    "        np.savetxt(output_dir + prefix + \"_\" + pop + \".geno\", geno_pop[i], delimiter=\"\", fmt='%i')"
   ]
  },
  {
   "cell_type": "code",
   "execution_count": 336,
   "metadata": {},
   "outputs": [
    {
     "name": "stdout",
     "output_type": "stream",
     "text": [
      "<generator object _replicate_generator at 0x7f203cbcb7d8>\n",
      "<generator object _replicate_generator at 0x7f203cbcbd00>\n"
     ]
    }
   ],
   "source": [
    "# ts_rep = msprime.simulate(\n",
    "#     # first 100 samples from AFR, next 100 from EUR\n",
    "#     samples=[msprime.Sample(0, 0)]*sample_size + [msprime.Sample(1, 0)]*sample_size,\n",
    "#     length=length, \n",
    "#     mutation_rate=mu, \n",
    "#     recombination_rate=rr,\n",
    "#     random_seed=seed,\n",
    "#     num_replicates=replicates,\n",
    "#     **model.asdict())\n",
    "\n",
    "# ts_rep2 = msprime.simulate(\n",
    "#     # first 100 samples from AFR, next 100 from EUR\n",
    "#     samples=[msprime.Sample(0, 0)]*sample_size + [msprime.Sample(1, 0)]*sample_size,\n",
    "#     length=length, \n",
    "#     mutation_rate=mu, \n",
    "#     recombination_rate=rr,\n",
    "#     random_seed=40,\n",
    "#     num_replicates=replicates,\n",
    "#     **model.asdict())\n",
    "\n",
    "# ts_list = [ts_rep, ts_rep2]\n",
    "\n",
    "# for ts_repi in ts_list:\n",
    "#     print(ts_repi)"
   ]
  },
  {
   "cell_type": "markdown",
   "metadata": {},
   "source": [
    "## Define models and parameters"
   ]
  },
  {
   "cell_type": "code",
   "execution_count": null,
   "metadata": {},
   "outputs": [],
   "source": [
    "# coalescent simulation parameters\n",
    "sample_size = 100 # each\n",
    "length = 50000\n",
    "mu = 1.15e-8\n",
    "rr = 1e-8\n",
    "replicates = 1000\n",
    "seed = 30\n",
    "\n",
    "# MNM simulation parameters\n",
    "mnm_dist = 100\n",
    "mnm_frac = 0.015\n",
    "\n",
    "# simulate African & European samples under basic Gutenkunst 3-population model\n",
    "GutenkunstThreePop_model = homo_sapiens.GutenkunstThreePopOutOfAfrica()\n",
    "\n",
    "GutenkunstThreePop_ts = msprime.simulate(\n",
    "    # first 100 samples from AFR, next 100 from EUR\n",
    "    samples=[msprime.Sample(0, 0)]*sample_size + [msprime.Sample(1, 0)]*sample_size,\n",
    "    length=length, \n",
    "    mutation_rate=mu, \n",
    "    recombination_rate=rr,\n",
    "    random_seed=seed,\n",
    "    num_replicates=replicates,\n",
    "    **GutenkunstThreePop_model.asdict())\n",
    "\n",
    "#-------------------------------------------------------\n",
    "# define other models here and add to model_dict below\n",
    "#-------------------------------------------------------\n",
    "\n",
    "# modify demographic parameters to include archaic branches\n",
    "# GutenkunstThreePopArchaic_model = homo_sapiens.GutenkunstThreePopArchaic()\n",
    "\n",
    "# GutenkunstThreePopArchaic_ts = msprime.simulate(\n",
    "#     # first 100 samples from AFR, next 100 from EUR\n",
    "#     samples=[msprime.Sample(0, 0)]*sample_size + [msprime.Sample(1, 0)]*sample_size,\n",
    "#     length=length, \n",
    "#     mutation_rate=mu, \n",
    "#     recombination_rate=rr,\n",
    "#     random_seed=seed,\n",
    "#     num_replicates=replicates,\n",
    "#     **GutenkunstThreePopArchaic_model.asdict())\n",
    "\n",
    "model_dict = {\"GutenkunstThreePop\": GutenkunstThreePop_ts}\n",
    "\n",
    "# model_dict = {\"GutenkunstThreePop\": GutenkunstThreePop_ts,\n",
    "#              \"GutenkunstThreePopArchaic\": GutenkunstThreePopArchaic_ts}"
   ]
  },
  {
   "cell_type": "markdown",
   "metadata": {},
   "source": [
    "## Run simulations\n",
    "\n",
    "Simulates 200 samples (100 each of European and African ancestry) under each of the specified models (with 1000 replicates each) and adds MNMs.\n",
    "\n",
    "Outputs the .snp and .geno files to `output/msprime/` then passes these as input to the `calc_stats_window_data.py` script from `ArchIE` to calculate the per-sample summary stats that act as features in the `ArchIE` inference method. These output files are then concatenated and passed as the test data to `ArchIE/train/train.R` to predict the fraction of archaic ancestry in each simulated sample.\n"
   ]
  },
  {
   "cell_type": "code",
   "execution_count": 337,
   "metadata": {},
   "outputs": [
    {
     "name": "stdout",
     "output_type": "stream",
     "text": [
      "python /mnt/norbert/home/jedidiah/projects/archanc/src/ArchIE/data/calc_stats_window_data.py -s /mnt/norbert/home/jedidiah/projects/archanc/output/msprime/gutenkunst_mnm100-0.015_0.snp -i /mnt/norbert/home/jedidiah/projects/archanc/src/ArchIE/simulations/out.ADMIXED.ind -a /mnt/norbert/home/jedidiah/projects/archanc/output/msprime/gutenkunst_mnm100-0.015_0_afr.geno -r /mnt/norbert/home/jedidiah/projects/archanc/output/msprime/gutenkunst_mnm100-0.015_0_eur.geno -c 1 -b 0 -e 50000 -w 50000 -z 50000  > /mnt/norbert/home/jedidiah/projects/archanc/output/ArchIE/gutenkunst_mnm100-0.015_0_afr.txt\n",
      "python /mnt/norbert/home/jedidiah/projects/archanc/src/ArchIE/data/calc_stats_window_data.py -s /mnt/norbert/home/jedidiah/projects/archanc/output/msprime/gutenkunst_mnm100-0.015_1.snp -i /mnt/norbert/home/jedidiah/projects/archanc/src/ArchIE/simulations/out.ADMIXED.ind -a /mnt/norbert/home/jedidiah/projects/archanc/output/msprime/gutenkunst_mnm100-0.015_1_afr.geno -r /mnt/norbert/home/jedidiah/projects/archanc/output/msprime/gutenkunst_mnm100-0.015_1_eur.geno -c 1 -b 0 -e 50000 -w 50000 -z 50000  > /mnt/norbert/home/jedidiah/projects/archanc/output/ArchIE/gutenkunst_mnm100-0.015_1_afr.txt\n",
      "python /mnt/norbert/home/jedidiah/projects/archanc/src/ArchIE/data/calc_stats_window_data.py -s /mnt/norbert/home/jedidiah/projects/archanc/output/msprime/gutenkunst_mnm100-0.015_2.snp -i /mnt/norbert/home/jedidiah/projects/archanc/src/ArchIE/simulations/out.ADMIXED.ind -a /mnt/norbert/home/jedidiah/projects/archanc/output/msprime/gutenkunst_mnm100-0.015_2_afr.geno -r /mnt/norbert/home/jedidiah/projects/archanc/output/msprime/gutenkunst_mnm100-0.015_2_eur.geno -c 1 -b 0 -e 50000 -w 50000 -z 50000  > /mnt/norbert/home/jedidiah/projects/archanc/output/ArchIE/gutenkunst_mnm100-0.015_2_afr.txt\n",
      "python /mnt/norbert/home/jedidiah/projects/archanc/src/ArchIE/data/calc_stats_window_data.py -s /mnt/norbert/home/jedidiah/projects/archanc/output/msprime/gutenkunst_mnm100-0.015_3.snp -i /mnt/norbert/home/jedidiah/projects/archanc/src/ArchIE/simulations/out.ADMIXED.ind -a /mnt/norbert/home/jedidiah/projects/archanc/output/msprime/gutenkunst_mnm100-0.015_3_afr.geno -r /mnt/norbert/home/jedidiah/projects/archanc/output/msprime/gutenkunst_mnm100-0.015_3_eur.geno -c 1 -b 0 -e 50000 -w 50000 -z 50000  > /mnt/norbert/home/jedidiah/projects/archanc/output/ArchIE/gutenkunst_mnm100-0.015_3_afr.txt\n",
      "python /mnt/norbert/home/jedidiah/projects/archanc/src/ArchIE/data/calc_stats_window_data.py -s /mnt/norbert/home/jedidiah/projects/archanc/output/msprime/gutenkunst_mnm100-0.015_4.snp -i /mnt/norbert/home/jedidiah/projects/archanc/src/ArchIE/simulations/out.ADMIXED.ind -a /mnt/norbert/home/jedidiah/projects/archanc/output/msprime/gutenkunst_mnm100-0.015_4_afr.geno -r /mnt/norbert/home/jedidiah/projects/archanc/output/msprime/gutenkunst_mnm100-0.015_4_eur.geno -c 1 -b 0 -e 50000 -w 50000 -z 50000  > /mnt/norbert/home/jedidiah/projects/archanc/output/ArchIE/gutenkunst_mnm100-0.015_4_afr.txt\n",
      "python /mnt/norbert/home/jedidiah/projects/archanc/src/ArchIE/data/calc_stats_window_data.py -s /mnt/norbert/home/jedidiah/projects/archanc/output/msprime/gutenkunst_mnm100-0.015_5.snp -i /mnt/norbert/home/jedidiah/projects/archanc/src/ArchIE/simulations/out.ADMIXED.ind -a /mnt/norbert/home/jedidiah/projects/archanc/output/msprime/gutenkunst_mnm100-0.015_5_afr.geno -r /mnt/norbert/home/jedidiah/projects/archanc/output/msprime/gutenkunst_mnm100-0.015_5_eur.geno -c 1 -b 0 -e 50000 -w 50000 -z 50000  > /mnt/norbert/home/jedidiah/projects/archanc/output/ArchIE/gutenkunst_mnm100-0.015_5_afr.txt\n",
      "python /mnt/norbert/home/jedidiah/projects/archanc/src/ArchIE/data/calc_stats_window_data.py -s /mnt/norbert/home/jedidiah/projects/archanc/output/msprime/gutenkunst_mnm100-0.015_6.snp -i /mnt/norbert/home/jedidiah/projects/archanc/src/ArchIE/simulations/out.ADMIXED.ind -a /mnt/norbert/home/jedidiah/projects/archanc/output/msprime/gutenkunst_mnm100-0.015_6_afr.geno -r /mnt/norbert/home/jedidiah/projects/archanc/output/msprime/gutenkunst_mnm100-0.015_6_eur.geno -c 1 -b 0 -e 50000 -w 50000 -z 50000  > /mnt/norbert/home/jedidiah/projects/archanc/output/ArchIE/gutenkunst_mnm100-0.015_6_afr.txt\n",
      "python /mnt/norbert/home/jedidiah/projects/archanc/src/ArchIE/data/calc_stats_window_data.py -s /mnt/norbert/home/jedidiah/projects/archanc/output/msprime/gutenkunst_mnm100-0.015_7.snp -i /mnt/norbert/home/jedidiah/projects/archanc/src/ArchIE/simulations/out.ADMIXED.ind -a /mnt/norbert/home/jedidiah/projects/archanc/output/msprime/gutenkunst_mnm100-0.015_7_afr.geno -r /mnt/norbert/home/jedidiah/projects/archanc/output/msprime/gutenkunst_mnm100-0.015_7_eur.geno -c 1 -b 0 -e 50000 -w 50000 -z 50000  > /mnt/norbert/home/jedidiah/projects/archanc/output/ArchIE/gutenkunst_mnm100-0.015_7_afr.txt\n",
      "python /mnt/norbert/home/jedidiah/projects/archanc/src/ArchIE/data/calc_stats_window_data.py -s /mnt/norbert/home/jedidiah/projects/archanc/output/msprime/gutenkunst_mnm100-0.015_8.snp -i /mnt/norbert/home/jedidiah/projects/archanc/src/ArchIE/simulations/out.ADMIXED.ind -a /mnt/norbert/home/jedidiah/projects/archanc/output/msprime/gutenkunst_mnm100-0.015_8_afr.geno -r /mnt/norbert/home/jedidiah/projects/archanc/output/msprime/gutenkunst_mnm100-0.015_8_eur.geno -c 1 -b 0 -e 50000 -w 50000 -z 50000  > /mnt/norbert/home/jedidiah/projects/archanc/output/ArchIE/gutenkunst_mnm100-0.015_8_afr.txt\n",
      "python /mnt/norbert/home/jedidiah/projects/archanc/src/ArchIE/data/calc_stats_window_data.py -s /mnt/norbert/home/jedidiah/projects/archanc/output/msprime/gutenkunst_mnm100-0.015_9.snp -i /mnt/norbert/home/jedidiah/projects/archanc/src/ArchIE/simulations/out.ADMIXED.ind -a /mnt/norbert/home/jedidiah/projects/archanc/output/msprime/gutenkunst_mnm100-0.015_9_afr.geno -r /mnt/norbert/home/jedidiah/projects/archanc/output/msprime/gutenkunst_mnm100-0.015_9_eur.geno -c 1 -b 0 -e 50000 -w 50000 -z 50000  > /mnt/norbert/home/jedidiah/projects/archanc/output/ArchIE/gutenkunst_mnm100-0.015_9_afr.txt\n"
     ]
    }
   ],
   "source": [
    "for model_label, model in model_dict.items():\n",
    "\n",
    "    for j, ts in enumerate(model):\n",
    "\n",
    "        prefix = model_label + \"_mnm\" + str(mnm_dist) + \"-\" + str(mnm_frac) + \"_\"\n",
    "\n",
    "        add_mnms(ts, \n",
    "                 output_dir=msprime_dir, \n",
    "                 model_label=model_label, \n",
    "                 pop_label=pop, \n",
    "                 mnm_dist=mnm_dist, \n",
    "                 mnm_frac=mnm_frac, \n",
    "                 rep_label=str(j))\n",
    "\n",
    "        stats_afr_cmd = \"python \" + archie_src_dir + \"data/calc_stats_window_data.py\" + \\\n",
    "            \" -s \" + msprime_dir + prefix + str(j) + \".snp\" + \\\n",
    "            \" -i \" + archie_src_dir + \"simulations/out.ADMIXED.ind\" + \\\n",
    "            \" -a \" + msprime_dir + prefix + str(j) + \"_afr.geno\" + \\\n",
    "            \" -r \" + msprime_dir + prefix + str(j) + \"_eur.geno\" + \\\n",
    "            \" -c 1 -b 0 -e 50000 -w 50000 -z 50000 \" + \\\n",
    "            \" > \" + archie_out_dir + prefix + str(j) + \"_afr.txt\"  \n",
    "#         print(stats_afr_cmd)\n",
    "        os.system(stats_afr_cmd)\n",
    "\n",
    "        stats_eur_cmd = \"python \" + archie_src_dir + \"data/calc_stats_window_data.py\" + \\\n",
    "            \" -s \" + msprime_dir + prefix + str(j) + \".snp\" + \\\n",
    "            \" -i \" + archie_src_dir + \"simulations/out.ADMIXED.ind\" + \\\n",
    "            \" -a \" + msprime_dir + prefix + str(j) + \"_eur.geno\" + \\\n",
    "            \" -r \" + msprime_dir + prefix + str(j) + \"_afr.geno\" + \\\n",
    "            \" -c 1 -b 0 -e 50000 -w 50000 -z 50000 \" + \\\n",
    "            \" > \" + archie_out_dir + prefix + str(j) + \"_eur.txt\"  \n",
    "    #     print(stats_eur_cmd)\n",
    "        os.system(stats_eur_cmd)\n",
    "\n",
    "    cat_afr_cmd = \"cat \" + archie_out_dir + \"*afr.txt\" + \" > \" + archie_out_dir + \"combined/\" + prefix + \"afr.txt\" \n",
    "    # print(cat_cmd)\n",
    "    os.system(cat_afr_cmd)\n",
    "\n",
    "    cat_eur_cmd = \"cat \" + archie_out_dir + \"*eur.txt\" + \" > \" + archie_out_dir + \"combined/\" + prefix + \"eur.txt\" \n",
    "    # print(cat_cmd)\n",
    "    os.system(cat_eur_cmd)\n",
    "\n",
    "    clean_cmd = \"rm \" + archie_out_dir + \"*\"\n",
    "    os.system(clean_cmd)\n"
   ]
  },
  {
   "cell_type": "markdown",
   "metadata": {},
   "source": [
    "# Sandbox"
   ]
  },
  {
   "cell_type": "code",
   "execution_count": null,
   "metadata": {},
   "outputs": [],
   "source": [
    "# ts_afr = msprime.simulate(\n",
    "#     samples=[msprime.Sample(0, 0)]*100,\n",
    "#     length=50000, mutation_rate=1.25e-8, random_seed=30, recombination_rate=1e-8,\n",
    "#     **model.asdict())\n",
    "\n",
    "# ts_eur = msprime.simulate(\n",
    "#     samples=[msprime.Sample(1, 0)]*100,\n",
    "#     length=50000, mutation_rate=1.25e-8, random_seed=30, recombination_rate=1e-8,\n",
    "#     **model.asdict())\n",
    "\n",
    "# tree=ts.first()\n",
    "print(ts_afr.first().draw(format=\"unicode\"))"
   ]
  },
  {
   "cell_type": "code",
   "execution_count": 205,
   "metadata": {},
   "outputs": [],
   "source": [
    "# # simulate MNMs in AFR\n",
    "# afr_geno = np.zeros(100)\n",
    "# # A_new = np.array([])\n",
    "# # for variant in list(itertools.islice(ts_eur.variants(), 200)):\n",
    "# with open(\"afr_gutenkunst_mnm_100.snp\", \"w\") as text_file:\n",
    "#     for variant in list(ts_eur.variants()):\n",
    "#         print(\"\\t\".join([\"1:\"+str(round(variant.site.position)), \"1\", str(variant.site.position/10e6), str(round(variant.site.position)), \"A\", \"G\"]), file=text_file)\n",
    "#         afr_geno = np.vstack([afr_geno, variant.genotypes])\n",
    "#     #     variant.genotypes, \n",
    "#         if random() < 0.015:\n",
    "#             dist = randint(1,100)\n",
    "#             mnm_cand = variant.site.position+dist \n",
    "\n",
    "#             print(\"\\t\".join([\"1:\"+str(round(mnm_cand))+\"*\", \"1\", str(mnm_cand/10e6), str(round(mnm_cand)), \"A\", \"G\"]), file=text_file)\n",
    "#             afr_geno = np.vstack([afr_geno, variant.genotypes])\n",
    "            \n",
    "# # delete empty first row used to initialize genotype matrix            \n",
    "# afr_geno = np.delete(afr_geno, (0), axis=0)\n",
    "# np.savetxt(\"afr_gutenkunst_mnm_100.geno\", afr_geno, delimiter=\"\\t\")\n",
    "    \n",
    "# simulate MNMs in EUR\n",
    "eur_geno = np.zeros(100, dtype=np.int8)\n",
    "# A_new = np.array([])\n",
    "# for variant in list(itertools.islice(ts_eur.variants(), 200)):\n",
    "# with open(\"eur_gutenkunst_mnm_100.snp\", \"w\") as text_file:\n",
    "for variant in list(ts_eur.variants()):\n",
    "#         print(\"\\t\".join([\"1:\"+str(round(variant.site.position)), \"1\", str(variant.site.position/10e6), str(round(variant.site.position)), \"A\", \"G\"]), file=text_file)\n",
    "    eur_geno = np.vstack([eur_geno, variant.genotypes])\n",
    "#     variant.genotypes, \n",
    "    if random() < 0.015:\n",
    "        dist = randint(1,100)\n",
    "        mnm_cand = variant.site.position+dist \n",
    "\n",
    "#             print(\"\\t\".join([\"1:\"+str(round(mnm_cand))+\"*\", \"1\", str(mnm_cand/10e6), str(round(mnm_cand)), \"A\", \"G\"]), file=text_file)\n",
    "        eur_geno = np.vstack([eur_geno, variant.genotypes])\n",
    "\n",
    "# delete empty first row used to initialize genotype matrix\n",
    "eur_geno = np.delete(eur_geno, (0), axis=0)\n",
    "np.savetxt(\"eur_gutenkunst_mnm_100.geno\", eur_geno, delimiter=\"\\t\")"
   ]
  },
  {
   "cell_type": "code",
   "execution_count": 204,
   "metadata": {},
   "outputs": [
    {
     "data": {
      "text/plain": [
       "array([[0, 0, 0, ..., 0, 0, 0],\n",
       "       [0, 0, 0, ..., 0, 0, 0],\n",
       "       [1, 0, 0, ..., 0, 0, 0],\n",
       "       ...,\n",
       "       [0, 0, 0, ..., 0, 0, 0],\n",
       "       [0, 0, 0, ..., 0, 0, 0],\n",
       "       [0, 0, 0, ..., 0, 0, 0]], dtype=int16)"
      ]
     },
     "execution_count": 204,
     "metadata": {},
     "output_type": "execute_result"
    }
   ],
   "source": [
    "eur_geno"
   ]
  },
  {
   "cell_type": "code",
   "execution_count": 296,
   "metadata": {},
   "outputs": [],
   "source": [
    "# ts_rep = msprime.simulate(\n",
    "# #         samples=[msprime.Sample(i, 0)]*100,\n",
    "#     samples=[msprime.Sample(gp, 0) for gp in range(2)]*100,\n",
    "#     length=50000, \n",
    "#     mutation_rate=1.25e-8, \n",
    "#     recombination_rate=1e-8,\n",
    "#     random_seed=30,\n",
    "#     num_replicates=5,\n",
    "#     **model.asdict())\n",
    "\n",
    "# # np.repeat([msprime.Sample(gp, 0) for gp in range(2)], 100)"
   ]
  },
  {
   "cell_type": "code",
   "execution_count": 297,
   "metadata": {},
   "outputs": [
    {
     "name": "stdout",
     "output_type": "stream",
     "text": [
      "(171, 200)\n",
      "(205, 200)\n",
      "(174, 200)\n",
      "(211, 200)\n",
      "(196, 200)\n"
     ]
    }
   ],
   "source": [
    "# for ts in ts_rep:\n",
    "#     print(ts.genotype_matrix().shape)\n",
    "# #     for node in ts.nodes():\n",
    "# # #         print(1)\n",
    "# # #         print(node.flags())\n",
    "# #         if node.population==1:\n",
    "# #             print(node)"
   ]
  },
  {
   "cell_type": "code",
   "execution_count": 253,
   "metadata": {},
   "outputs": [
    {
     "name": "stdout",
     "output_type": "stream",
     "text": [
      "{'id': 0, 'time': 0.0, 'population': 1, 'individual': -1, 'metadata': b'', 'flags': 1}\n",
      "{'id': 1, 'time': 0.0, 'population': 1, 'individual': -1, 'metadata': b'', 'flags': 1}\n",
      "{'id': 2, 'time': 0.0, 'population': 1, 'individual': -1, 'metadata': b'', 'flags': 1}\n",
      "{'id': 3, 'time': 0.0, 'population': 1, 'individual': -1, 'metadata': b'', 'flags': 1}\n",
      "{'id': 4, 'time': 0.0, 'population': 1, 'individual': -1, 'metadata': b'', 'flags': 1}\n",
      "{'id': 5, 'time': 0.0, 'population': 1, 'individual': -1, 'metadata': b'', 'flags': 1}\n",
      "{'id': 6, 'time': 0.0, 'population': 1, 'individual': -1, 'metadata': b'', 'flags': 1}\n",
      "{'id': 7, 'time': 0.0, 'population': 1, 'individual': -1, 'metadata': b'', 'flags': 1}\n",
      "{'id': 8, 'time': 0.0, 'population': 1, 'individual': -1, 'metadata': b'', 'flags': 1}\n",
      "{'id': 9, 'time': 0.0, 'population': 1, 'individual': -1, 'metadata': b'', 'flags': 1}\n",
      "{'id': 10, 'time': 0.0, 'population': 1, 'individual': -1, 'metadata': b'', 'flags': 1}\n",
      "{'id': 11, 'time': 0.0, 'population': 1, 'individual': -1, 'metadata': b'', 'flags': 1}\n",
      "{'id': 12, 'time': 0.0, 'population': 1, 'individual': -1, 'metadata': b'', 'flags': 1}\n",
      "{'id': 13, 'time': 0.0, 'population': 1, 'individual': -1, 'metadata': b'', 'flags': 1}\n",
      "{'id': 14, 'time': 0.0, 'population': 1, 'individual': -1, 'metadata': b'', 'flags': 1}\n",
      "{'id': 15, 'time': 0.0, 'population': 1, 'individual': -1, 'metadata': b'', 'flags': 1}\n",
      "{'id': 16, 'time': 0.0, 'population': 1, 'individual': -1, 'metadata': b'', 'flags': 1}\n",
      "{'id': 17, 'time': 0.0, 'population': 1, 'individual': -1, 'metadata': b'', 'flags': 1}\n",
      "{'id': 18, 'time': 0.0, 'population': 1, 'individual': -1, 'metadata': b'', 'flags': 1}\n",
      "{'id': 19, 'time': 0.0, 'population': 1, 'individual': -1, 'metadata': b'', 'flags': 1}\n",
      "{'id': 20, 'time': 0.0, 'population': 1, 'individual': -1, 'metadata': b'', 'flags': 1}\n",
      "{'id': 21, 'time': 0.0, 'population': 1, 'individual': -1, 'metadata': b'', 'flags': 1}\n",
      "{'id': 22, 'time': 0.0, 'population': 1, 'individual': -1, 'metadata': b'', 'flags': 1}\n",
      "{'id': 23, 'time': 0.0, 'population': 1, 'individual': -1, 'metadata': b'', 'flags': 1}\n",
      "{'id': 24, 'time': 0.0, 'population': 1, 'individual': -1, 'metadata': b'', 'flags': 1}\n",
      "{'id': 25, 'time': 0.0, 'population': 1, 'individual': -1, 'metadata': b'', 'flags': 1}\n",
      "{'id': 26, 'time': 0.0, 'population': 1, 'individual': -1, 'metadata': b'', 'flags': 1}\n",
      "{'id': 27, 'time': 0.0, 'population': 1, 'individual': -1, 'metadata': b'', 'flags': 1}\n",
      "{'id': 28, 'time': 0.0, 'population': 1, 'individual': -1, 'metadata': b'', 'flags': 1}\n",
      "{'id': 29, 'time': 0.0, 'population': 1, 'individual': -1, 'metadata': b'', 'flags': 1}\n",
      "{'id': 30, 'time': 0.0, 'population': 1, 'individual': -1, 'metadata': b'', 'flags': 1}\n",
      "{'id': 31, 'time': 0.0, 'population': 1, 'individual': -1, 'metadata': b'', 'flags': 1}\n",
      "{'id': 32, 'time': 0.0, 'population': 1, 'individual': -1, 'metadata': b'', 'flags': 1}\n",
      "{'id': 33, 'time': 0.0, 'population': 1, 'individual': -1, 'metadata': b'', 'flags': 1}\n",
      "{'id': 34, 'time': 0.0, 'population': 1, 'individual': -1, 'metadata': b'', 'flags': 1}\n",
      "{'id': 35, 'time': 0.0, 'population': 1, 'individual': -1, 'metadata': b'', 'flags': 1}\n",
      "{'id': 36, 'time': 0.0, 'population': 1, 'individual': -1, 'metadata': b'', 'flags': 1}\n",
      "{'id': 37, 'time': 0.0, 'population': 1, 'individual': -1, 'metadata': b'', 'flags': 1}\n",
      "{'id': 38, 'time': 0.0, 'population': 1, 'individual': -1, 'metadata': b'', 'flags': 1}\n",
      "{'id': 39, 'time': 0.0, 'population': 1, 'individual': -1, 'metadata': b'', 'flags': 1}\n",
      "{'id': 40, 'time': 0.0, 'population': 1, 'individual': -1, 'metadata': b'', 'flags': 1}\n",
      "{'id': 41, 'time': 0.0, 'population': 1, 'individual': -1, 'metadata': b'', 'flags': 1}\n",
      "{'id': 42, 'time': 0.0, 'population': 1, 'individual': -1, 'metadata': b'', 'flags': 1}\n",
      "{'id': 43, 'time': 0.0, 'population': 1, 'individual': -1, 'metadata': b'', 'flags': 1}\n",
      "{'id': 44, 'time': 0.0, 'population': 1, 'individual': -1, 'metadata': b'', 'flags': 1}\n",
      "{'id': 45, 'time': 0.0, 'population': 1, 'individual': -1, 'metadata': b'', 'flags': 1}\n",
      "{'id': 46, 'time': 0.0, 'population': 1, 'individual': -1, 'metadata': b'', 'flags': 1}\n",
      "{'id': 47, 'time': 0.0, 'population': 1, 'individual': -1, 'metadata': b'', 'flags': 1}\n",
      "{'id': 48, 'time': 0.0, 'population': 1, 'individual': -1, 'metadata': b'', 'flags': 1}\n",
      "{'id': 49, 'time': 0.0, 'population': 1, 'individual': -1, 'metadata': b'', 'flags': 1}\n",
      "{'id': 50, 'time': 0.0, 'population': 1, 'individual': -1, 'metadata': b'', 'flags': 1}\n",
      "{'id': 51, 'time': 0.0, 'population': 1, 'individual': -1, 'metadata': b'', 'flags': 1}\n",
      "{'id': 52, 'time': 0.0, 'population': 1, 'individual': -1, 'metadata': b'', 'flags': 1}\n",
      "{'id': 53, 'time': 0.0, 'population': 1, 'individual': -1, 'metadata': b'', 'flags': 1}\n",
      "{'id': 54, 'time': 0.0, 'population': 1, 'individual': -1, 'metadata': b'', 'flags': 1}\n",
      "{'id': 55, 'time': 0.0, 'population': 1, 'individual': -1, 'metadata': b'', 'flags': 1}\n",
      "{'id': 56, 'time': 0.0, 'population': 1, 'individual': -1, 'metadata': b'', 'flags': 1}\n",
      "{'id': 57, 'time': 0.0, 'population': 1, 'individual': -1, 'metadata': b'', 'flags': 1}\n",
      "{'id': 58, 'time': 0.0, 'population': 1, 'individual': -1, 'metadata': b'', 'flags': 1}\n",
      "{'id': 59, 'time': 0.0, 'population': 1, 'individual': -1, 'metadata': b'', 'flags': 1}\n",
      "{'id': 60, 'time': 0.0, 'population': 1, 'individual': -1, 'metadata': b'', 'flags': 1}\n",
      "{'id': 61, 'time': 0.0, 'population': 1, 'individual': -1, 'metadata': b'', 'flags': 1}\n",
      "{'id': 62, 'time': 0.0, 'population': 1, 'individual': -1, 'metadata': b'', 'flags': 1}\n",
      "{'id': 63, 'time': 0.0, 'population': 1, 'individual': -1, 'metadata': b'', 'flags': 1}\n",
      "{'id': 64, 'time': 0.0, 'population': 1, 'individual': -1, 'metadata': b'', 'flags': 1}\n",
      "{'id': 65, 'time': 0.0, 'population': 1, 'individual': -1, 'metadata': b'', 'flags': 1}\n",
      "{'id': 66, 'time': 0.0, 'population': 1, 'individual': -1, 'metadata': b'', 'flags': 1}\n",
      "{'id': 67, 'time': 0.0, 'population': 1, 'individual': -1, 'metadata': b'', 'flags': 1}\n",
      "{'id': 68, 'time': 0.0, 'population': 1, 'individual': -1, 'metadata': b'', 'flags': 1}\n",
      "{'id': 69, 'time': 0.0, 'population': 1, 'individual': -1, 'metadata': b'', 'flags': 1}\n",
      "{'id': 70, 'time': 0.0, 'population': 1, 'individual': -1, 'metadata': b'', 'flags': 1}\n",
      "{'id': 71, 'time': 0.0, 'population': 1, 'individual': -1, 'metadata': b'', 'flags': 1}\n",
      "{'id': 72, 'time': 0.0, 'population': 1, 'individual': -1, 'metadata': b'', 'flags': 1}\n",
      "{'id': 73, 'time': 0.0, 'population': 1, 'individual': -1, 'metadata': b'', 'flags': 1}\n",
      "{'id': 74, 'time': 0.0, 'population': 1, 'individual': -1, 'metadata': b'', 'flags': 1}\n",
      "{'id': 75, 'time': 0.0, 'population': 1, 'individual': -1, 'metadata': b'', 'flags': 1}\n",
      "{'id': 76, 'time': 0.0, 'population': 1, 'individual': -1, 'metadata': b'', 'flags': 1}\n",
      "{'id': 77, 'time': 0.0, 'population': 1, 'individual': -1, 'metadata': b'', 'flags': 1}\n",
      "{'id': 78, 'time': 0.0, 'population': 1, 'individual': -1, 'metadata': b'', 'flags': 1}\n",
      "{'id': 79, 'time': 0.0, 'population': 1, 'individual': -1, 'metadata': b'', 'flags': 1}\n",
      "{'id': 80, 'time': 0.0, 'population': 1, 'individual': -1, 'metadata': b'', 'flags': 1}\n",
      "{'id': 81, 'time': 0.0, 'population': 1, 'individual': -1, 'metadata': b'', 'flags': 1}\n",
      "{'id': 82, 'time': 0.0, 'population': 1, 'individual': -1, 'metadata': b'', 'flags': 1}\n",
      "{'id': 83, 'time': 0.0, 'population': 1, 'individual': -1, 'metadata': b'', 'flags': 1}\n",
      "{'id': 84, 'time': 0.0, 'population': 1, 'individual': -1, 'metadata': b'', 'flags': 1}\n",
      "{'id': 85, 'time': 0.0, 'population': 1, 'individual': -1, 'metadata': b'', 'flags': 1}\n",
      "{'id': 86, 'time': 0.0, 'population': 1, 'individual': -1, 'metadata': b'', 'flags': 1}\n",
      "{'id': 87, 'time': 0.0, 'population': 1, 'individual': -1, 'metadata': b'', 'flags': 1}\n",
      "{'id': 88, 'time': 0.0, 'population': 1, 'individual': -1, 'metadata': b'', 'flags': 1}\n",
      "{'id': 89, 'time': 0.0, 'population': 1, 'individual': -1, 'metadata': b'', 'flags': 1}\n",
      "{'id': 90, 'time': 0.0, 'population': 1, 'individual': -1, 'metadata': b'', 'flags': 1}\n",
      "{'id': 91, 'time': 0.0, 'population': 1, 'individual': -1, 'metadata': b'', 'flags': 1}\n",
      "{'id': 92, 'time': 0.0, 'population': 1, 'individual': -1, 'metadata': b'', 'flags': 1}\n",
      "{'id': 93, 'time': 0.0, 'population': 1, 'individual': -1, 'metadata': b'', 'flags': 1}\n",
      "{'id': 94, 'time': 0.0, 'population': 1, 'individual': -1, 'metadata': b'', 'flags': 1}\n",
      "{'id': 95, 'time': 0.0, 'population': 1, 'individual': -1, 'metadata': b'', 'flags': 1}\n",
      "{'id': 96, 'time': 0.0, 'population': 1, 'individual': -1, 'metadata': b'', 'flags': 1}\n",
      "{'id': 97, 'time': 0.0, 'population': 1, 'individual': -1, 'metadata': b'', 'flags': 1}\n",
      "{'id': 98, 'time': 0.0, 'population': 1, 'individual': -1, 'metadata': b'', 'flags': 1}\n",
      "{'id': 99, 'time': 0.0, 'population': 1, 'individual': -1, 'metadata': b'', 'flags': 1}\n",
      "{'id': 100, 'time': 22.594020771381825, 'population': 1, 'individual': -1, 'metadata': b'', 'flags': 0}\n",
      "{'id': 101, 'time': 41.34692443265968, 'population': 1, 'individual': -1, 'metadata': b'', 'flags': 0}\n",
      "{'id': 102, 'time': 44.24696986990864, 'population': 1, 'individual': -1, 'metadata': b'', 'flags': 0}\n",
      "{'id': 103, 'time': 51.85369901134688, 'population': 1, 'individual': -1, 'metadata': b'', 'flags': 0}\n",
      "{'id': 104, 'time': 68.26626921916956, 'population': 1, 'individual': -1, 'metadata': b'', 'flags': 0}\n",
      "{'id': 105, 'time': 89.96388953810265, 'population': 1, 'individual': -1, 'metadata': b'', 'flags': 0}\n",
      "{'id': 106, 'time': 91.89345178894719, 'population': 1, 'individual': -1, 'metadata': b'', 'flags': 0}\n",
      "{'id': 107, 'time': 95.46842045833101, 'population': 1, 'individual': -1, 'metadata': b'', 'flags': 0}\n",
      "{'id': 108, 'time': 96.49365448542308, 'population': 1, 'individual': -1, 'metadata': b'', 'flags': 0}\n",
      "{'id': 109, 'time': 103.31603290522587, 'population': 1, 'individual': -1, 'metadata': b'', 'flags': 0}\n",
      "{'id': 110, 'time': 106.98045287422045, 'population': 1, 'individual': -1, 'metadata': b'', 'flags': 0}\n",
      "{'id': 111, 'time': 109.4398292437733, 'population': 1, 'individual': -1, 'metadata': b'', 'flags': 0}\n",
      "{'id': 112, 'time': 109.64978025200972, 'population': 1, 'individual': -1, 'metadata': b'', 'flags': 0}\n",
      "{'id': 113, 'time': 132.2761801394504, 'population': 1, 'individual': -1, 'metadata': b'', 'flags': 0}\n",
      "{'id': 114, 'time': 140.47068898206214, 'population': 1, 'individual': -1, 'metadata': b'', 'flags': 0}\n",
      "{'id': 115, 'time': 141.77446954842316, 'population': 1, 'individual': -1, 'metadata': b'', 'flags': 0}\n",
      "{'id': 116, 'time': 154.13526947899123, 'population': 1, 'individual': -1, 'metadata': b'', 'flags': 0}\n",
      "{'id': 117, 'time': 154.57655882645977, 'population': 1, 'individual': -1, 'metadata': b'', 'flags': 0}\n",
      "{'id': 118, 'time': 155.98176882895586, 'population': 1, 'individual': -1, 'metadata': b'', 'flags': 0}\n",
      "{'id': 119, 'time': 180.98638764890612, 'population': 1, 'individual': -1, 'metadata': b'', 'flags': 0}\n",
      "{'id': 120, 'time': 181.79946297624915, 'population': 1, 'individual': -1, 'metadata': b'', 'flags': 0}\n",
      "{'id': 121, 'time': 196.71339165596345, 'population': 1, 'individual': -1, 'metadata': b'', 'flags': 0}\n",
      "{'id': 122, 'time': 198.87459245499036, 'population': 1, 'individual': -1, 'metadata': b'', 'flags': 0}\n",
      "{'id': 123, 'time': 213.24563491487433, 'population': 1, 'individual': -1, 'metadata': b'', 'flags': 0}\n",
      "{'id': 124, 'time': 224.49979299136706, 'population': 1, 'individual': -1, 'metadata': b'', 'flags': 0}\n",
      "{'id': 125, 'time': 225.92531294078822, 'population': 1, 'individual': -1, 'metadata': b'', 'flags': 0}\n",
      "{'id': 126, 'time': 228.66765154043622, 'population': 1, 'individual': -1, 'metadata': b'', 'flags': 0}\n",
      "{'id': 127, 'time': 228.85135909988406, 'population': 1, 'individual': -1, 'metadata': b'', 'flags': 0}\n",
      "{'id': 128, 'time': 231.76735936427846, 'population': 1, 'individual': -1, 'metadata': b'', 'flags': 0}\n",
      "{'id': 129, 'time': 236.5047187622034, 'population': 1, 'individual': -1, 'metadata': b'', 'flags': 0}\n",
      "{'id': 130, 'time': 257.8884627754563, 'population': 1, 'individual': -1, 'metadata': b'', 'flags': 0}\n",
      "{'id': 131, 'time': 262.9367367324616, 'population': 1, 'individual': -1, 'metadata': b'', 'flags': 0}\n",
      "{'id': 132, 'time': 265.154941232359, 'population': 1, 'individual': -1, 'metadata': b'', 'flags': 0}\n",
      "{'id': 133, 'time': 271.5552590587589, 'population': 1, 'individual': -1, 'metadata': b'', 'flags': 0}\n",
      "{'id': 134, 'time': 286.91388098090084, 'population': 1, 'individual': -1, 'metadata': b'', 'flags': 0}\n",
      "{'id': 135, 'time': 293.84323695304346, 'population': 1, 'individual': -1, 'metadata': b'', 'flags': 0}\n",
      "{'id': 136, 'time': 303.6040001808839, 'population': 1, 'individual': -1, 'metadata': b'', 'flags': 0}\n",
      "{'id': 137, 'time': 310.18541489333654, 'population': 1, 'individual': -1, 'metadata': b'', 'flags': 0}\n",
      "{'id': 138, 'time': 323.6540083742206, 'population': 1, 'individual': -1, 'metadata': b'', 'flags': 0}\n",
      "{'id': 139, 'time': 329.02580337294694, 'population': 1, 'individual': -1, 'metadata': b'', 'flags': 0}\n",
      "{'id': 140, 'time': 332.0936791209661, 'population': 1, 'individual': -1, 'metadata': b'', 'flags': 0}\n",
      "{'id': 141, 'time': 332.4250226617219, 'population': 1, 'individual': -1, 'metadata': b'', 'flags': 0}\n",
      "{'id': 142, 'time': 336.9469216450302, 'population': 1, 'individual': -1, 'metadata': b'', 'flags': 0}\n",
      "{'id': 143, 'time': 343.8157068381918, 'population': 1, 'individual': -1, 'metadata': b'', 'flags': 0}\n",
      "{'id': 144, 'time': 354.4915543162433, 'population': 1, 'individual': -1, 'metadata': b'', 'flags': 0}\n",
      "{'id': 145, 'time': 354.88628148292145, 'population': 1, 'individual': -1, 'metadata': b'', 'flags': 0}\n",
      "{'id': 146, 'time': 378.80492135648217, 'population': 1, 'individual': -1, 'metadata': b'', 'flags': 0}\n",
      "{'id': 147, 'time': 380.0292862910692, 'population': 1, 'individual': -1, 'metadata': b'', 'flags': 0}\n",
      "{'id': 148, 'time': 405.2331764032921, 'population': 1, 'individual': -1, 'metadata': b'', 'flags': 0}\n",
      "{'id': 149, 'time': 408.882196615781, 'population': 1, 'individual': -1, 'metadata': b'', 'flags': 0}\n",
      "{'id': 150, 'time': 414.57671782353145, 'population': 1, 'individual': -1, 'metadata': b'', 'flags': 0}\n",
      "{'id': 151, 'time': 434.64715270930435, 'population': 1, 'individual': -1, 'metadata': b'', 'flags': 0}\n",
      "{'id': 152, 'time': 440.2728148745299, 'population': 1, 'individual': -1, 'metadata': b'', 'flags': 0}\n",
      "{'id': 153, 'time': 449.28485296099984, 'population': 1, 'individual': -1, 'metadata': b'', 'flags': 0}\n",
      "{'id': 154, 'time': 460.31949928770894, 'population': 1, 'individual': -1, 'metadata': b'', 'flags': 0}\n",
      "{'id': 155, 'time': 462.73731274162986, 'population': 1, 'individual': -1, 'metadata': b'', 'flags': 0}\n",
      "{'id': 156, 'time': 469.96325045199455, 'population': 1, 'individual': -1, 'metadata': b'', 'flags': 0}\n",
      "{'id': 157, 'time': 472.21573116457824, 'population': 1, 'individual': -1, 'metadata': b'', 'flags': 0}\n",
      "{'id': 158, 'time': 494.57046144501163, 'population': 1, 'individual': -1, 'metadata': b'', 'flags': 0}\n",
      "{'id': 159, 'time': 497.9860742804456, 'population': 1, 'individual': -1, 'metadata': b'', 'flags': 0}\n",
      "{'id': 160, 'time': 505.0155649250079, 'population': 1, 'individual': -1, 'metadata': b'', 'flags': 0}\n",
      "{'id': 161, 'time': 508.9321848797704, 'population': 2, 'individual': -1, 'metadata': b'', 'flags': 0}\n",
      "{'id': 162, 'time': 510.030164303166, 'population': 1, 'individual': -1, 'metadata': b'', 'flags': 0}\n",
      "{'id': 163, 'time': 513.5706330916333, 'population': 1, 'individual': -1, 'metadata': b'', 'flags': 0}\n",
      "{'id': 164, 'time': 522.0447180322668, 'population': 1, 'individual': -1, 'metadata': b'', 'flags': 0}\n",
      "{'id': 165, 'time': 524.3395560944318, 'population': 1, 'individual': -1, 'metadata': b'', 'flags': 0}\n",
      "{'id': 166, 'time': 531.4359965613528, 'population': 1, 'individual': -1, 'metadata': b'', 'flags': 0}\n",
      "{'id': 167, 'time': 543.9740152346669, 'population': 1, 'individual': -1, 'metadata': b'', 'flags': 0}\n",
      "{'id': 168, 'time': 549.1838064888047, 'population': 1, 'individual': -1, 'metadata': b'', 'flags': 0}\n",
      "{'id': 169, 'time': 553.280793820056, 'population': 1, 'individual': -1, 'metadata': b'', 'flags': 0}\n",
      "{'id': 170, 'time': 561.8093774679787, 'population': 1, 'individual': -1, 'metadata': b'', 'flags': 0}\n",
      "{'id': 171, 'time': 573.40173731488, 'population': 1, 'individual': -1, 'metadata': b'', 'flags': 0}\n",
      "{'id': 172, 'time': 580.3945325496117, 'population': 1, 'individual': -1, 'metadata': b'', 'flags': 0}\n",
      "{'id': 173, 'time': 592.8005436729254, 'population': 1, 'individual': -1, 'metadata': b'', 'flags': 0}\n",
      "{'id': 174, 'time': 594.2325995590462, 'population': 1, 'individual': -1, 'metadata': b'', 'flags': 0}\n",
      "{'id': 175, 'time': 598.9158358391875, 'population': 1, 'individual': -1, 'metadata': b'', 'flags': 0}\n",
      "{'id': 176, 'time': 606.5295990518044, 'population': 1, 'individual': -1, 'metadata': b'', 'flags': 0}\n",
      "{'id': 177, 'time': 611.1027581121215, 'population': 1, 'individual': -1, 'metadata': b'', 'flags': 0}\n",
      "{'id': 178, 'time': 614.0169807132124, 'population': 1, 'individual': -1, 'metadata': b'', 'flags': 0}\n",
      "{'id': 179, 'time': 634.3795686681328, 'population': 1, 'individual': -1, 'metadata': b'', 'flags': 0}\n",
      "{'id': 180, 'time': 638.3860669622483, 'population': 1, 'individual': -1, 'metadata': b'', 'flags': 0}\n",
      "{'id': 181, 'time': 646.3687533444524, 'population': 1, 'individual': -1, 'metadata': b'', 'flags': 0}\n",
      "{'id': 182, 'time': 660.2689765408649, 'population': 1, 'individual': -1, 'metadata': b'', 'flags': 0}\n",
      "{'id': 183, 'time': 690.9141140450296, 'population': 1, 'individual': -1, 'metadata': b'', 'flags': 0}\n",
      "{'id': 184, 'time': 699.5531103330685, 'population': 1, 'individual': -1, 'metadata': b'', 'flags': 0}\n",
      "{'id': 185, 'time': 704.4434137168646, 'population': 1, 'individual': -1, 'metadata': b'', 'flags': 0}\n",
      "{'id': 186, 'time': 714.4485451672332, 'population': 1, 'individual': -1, 'metadata': b'', 'flags': 0}\n",
      "{'id': 187, 'time': 733.8990530248416, 'population': 1, 'individual': -1, 'metadata': b'', 'flags': 0}\n",
      "{'id': 188, 'time': 740.3752834760666, 'population': 1, 'individual': -1, 'metadata': b'', 'flags': 0}\n",
      "{'id': 189, 'time': 747.8194699690617, 'population': 1, 'individual': -1, 'metadata': b'', 'flags': 0}\n",
      "{'id': 190, 'time': 786.3386955424698, 'population': 1, 'individual': -1, 'metadata': b'', 'flags': 0}\n",
      "{'id': 191, 'time': 787.4230630633922, 'population': 1, 'individual': -1, 'metadata': b'', 'flags': 0}\n",
      "{'id': 192, 'time': 792.7964750147227, 'population': 1, 'individual': -1, 'metadata': b'', 'flags': 0}\n",
      "{'id': 193, 'time': 811.9522178335485, 'population': 1, 'individual': -1, 'metadata': b'', 'flags': 0}\n",
      "{'id': 194, 'time': 829.7769533286368, 'population': 1, 'individual': -1, 'metadata': b'', 'flags': 0}\n",
      "{'id': 195, 'time': 833.3873761426819, 'population': 2, 'individual': -1, 'metadata': b'', 'flags': 0}\n",
      "{'id': 196, 'time': 837.620497227549, 'population': 2, 'individual': -1, 'metadata': b'', 'flags': 0}\n",
      "{'id': 197, 'time': 840.9400394617397, 'population': 1, 'individual': -1, 'metadata': b'', 'flags': 0}\n",
      "{'id': 198, 'time': 844.7580998314154, 'population': 1, 'individual': -1, 'metadata': b'', 'flags': 0}\n",
      "{'id': 199, 'time': 847.3341569303872, 'population': 1, 'individual': -1, 'metadata': b'', 'flags': 0}\n",
      "{'id': 200, 'time': 903.2132465018922, 'population': 1, 'individual': -1, 'metadata': b'', 'flags': 0}\n",
      "{'id': 201, 'time': 911.2199697032067, 'population': 1, 'individual': -1, 'metadata': b'', 'flags': 0}\n",
      "{'id': 202, 'time': 913.9842412454714, 'population': 1, 'individual': -1, 'metadata': b'', 'flags': 0}\n",
      "{'id': 203, 'time': 935.863633534495, 'population': 1, 'individual': -1, 'metadata': b'', 'flags': 0}\n",
      "{'id': 204, 'time': 1015.5834891387215, 'population': 1, 'individual': -1, 'metadata': b'', 'flags': 0}\n",
      "{'id': 205, 'time': 1020.7693578999334, 'population': 1, 'individual': -1, 'metadata': b'', 'flags': 0}\n",
      "{'id': 206, 'time': 1029.1412638134436, 'population': 1, 'individual': -1, 'metadata': b'', 'flags': 0}\n",
      "{'id': 207, 'time': 1062.311024699011, 'population': 1, 'individual': -1, 'metadata': b'', 'flags': 0}\n",
      "{'id': 208, 'time': 1085.068110239177, 'population': 1, 'individual': -1, 'metadata': b'', 'flags': 0}\n",
      "{'id': 209, 'time': 1104.302926716267, 'population': 1, 'individual': -1, 'metadata': b'', 'flags': 0}\n",
      "{'id': 210, 'time': 1189.131521779759, 'population': 1, 'individual': -1, 'metadata': b'', 'flags': 0}\n",
      "{'id': 211, 'time': 1242.3972413265294, 'population': 1, 'individual': -1, 'metadata': b'', 'flags': 0}\n",
      "{'id': 212, 'time': 1269.6050509208128, 'population': 1, 'individual': -1, 'metadata': b'', 'flags': 0}\n",
      "{'id': 213, 'time': 1277.3711551986871, 'population': 1, 'individual': -1, 'metadata': b'', 'flags': 0}\n",
      "{'id': 214, 'time': 1303.235288139597, 'population': 1, 'individual': -1, 'metadata': b'', 'flags': 0}\n",
      "{'id': 215, 'time': 1540.2386007022817, 'population': 1, 'individual': -1, 'metadata': b'', 'flags': 0}\n",
      "{'id': 216, 'time': 1595.1926851855114, 'population': 1, 'individual': -1, 'metadata': b'', 'flags': 0}\n",
      "{'id': 217, 'time': 1602.018337710973, 'population': 1, 'individual': -1, 'metadata': b'', 'flags': 0}\n",
      "{'id': 218, 'time': 1979.520007186594, 'population': 1, 'individual': -1, 'metadata': b'', 'flags': 0}\n",
      "{'id': 219, 'time': 2040.3478713619097, 'population': 1, 'individual': -1, 'metadata': b'', 'flags': 0}\n",
      "{'id': 220, 'time': 2049.917538090984, 'population': 1, 'individual': -1, 'metadata': b'', 'flags': 0}\n",
      "{'id': 221, 'time': 2665.9460585229917, 'population': 1, 'individual': -1, 'metadata': b'', 'flags': 0}\n",
      "{'id': 222, 'time': 3079.6618284949577, 'population': 1, 'individual': -1, 'metadata': b'', 'flags': 0}\n",
      "{'id': 223, 'time': 3481.2982533566874, 'population': 1, 'individual': -1, 'metadata': b'', 'flags': 0}\n",
      "{'id': 224, 'time': 3901.948825960973, 'population': 0, 'individual': -1, 'metadata': b'', 'flags': 0}\n",
      "{'id': 225, 'time': 4628.191746583521, 'population': 0, 'individual': -1, 'metadata': b'', 'flags': 0}\n",
      "{'id': 226, 'time': 4795.980471760915, 'population': 1, 'individual': -1, 'metadata': b'', 'flags': 0}\n",
      "{'id': 227, 'time': 5897.01985113483, 'population': 1, 'individual': -1, 'metadata': b'', 'flags': 0}\n",
      "{'id': 228, 'time': 6261.719028375331, 'population': 1, 'individual': -1, 'metadata': b'', 'flags': 0}\n",
      "{'id': 229, 'time': 6360.713533187326, 'population': 1, 'individual': -1, 'metadata': b'', 'flags': 0}\n",
      "{'id': 230, 'time': 7019.200844294908, 'population': 1, 'individual': -1, 'metadata': b'', 'flags': 0}\n",
      "{'id': 231, 'time': 7996.678087855726, 'population': 0, 'individual': -1, 'metadata': b'', 'flags': 0}\n",
      "{'id': 232, 'time': 8232.940743172465, 'population': 1, 'individual': -1, 'metadata': b'', 'flags': 0}\n",
      "{'id': 233, 'time': 8295.38975995865, 'population': 0, 'individual': -1, 'metadata': b'', 'flags': 0}\n",
      "{'id': 234, 'time': 8810.739281139786, 'population': 1, 'individual': -1, 'metadata': b'', 'flags': 0}\n",
      "{'id': 235, 'time': 8891.527866745688, 'population': 1, 'individual': -1, 'metadata': b'', 'flags': 0}\n",
      "{'id': 236, 'time': 11389.830388509587, 'population': 0, 'individual': -1, 'metadata': b'', 'flags': 0}\n",
      "{'id': 237, 'time': 11780.933499736062, 'population': 1, 'individual': -1, 'metadata': b'', 'flags': 0}\n",
      "{'id': 238, 'time': 11898.548850952548, 'population': 1, 'individual': -1, 'metadata': b'', 'flags': 0}\n",
      "{'id': 239, 'time': 13647.344468948997, 'population': 1, 'individual': -1, 'metadata': b'', 'flags': 0}\n",
      "{'id': 240, 'time': 13868.469386538452, 'population': 0, 'individual': -1, 'metadata': b'', 'flags': 0}\n",
      "{'id': 241, 'time': 14463.85152083593, 'population': 0, 'individual': -1, 'metadata': b'', 'flags': 0}\n",
      "{'id': 242, 'time': 16462.749970215056, 'population': 0, 'individual': -1, 'metadata': b'', 'flags': 0}\n",
      "{'id': 243, 'time': 17150.356303368717, 'population': 1, 'individual': -1, 'metadata': b'', 'flags': 0}\n",
      "{'id': 244, 'time': 17553.598365701026, 'population': 1, 'individual': -1, 'metadata': b'', 'flags': 0}\n",
      "{'id': 245, 'time': 18388.268805972548, 'population': 1, 'individual': -1, 'metadata': b'', 'flags': 0}\n",
      "{'id': 246, 'time': 18522.224155401404, 'population': 1, 'individual': -1, 'metadata': b'', 'flags': 0}\n",
      "{'id': 247, 'time': 18737.327771718705, 'population': 1, 'individual': -1, 'metadata': b'', 'flags': 0}\n",
      "{'id': 248, 'time': 18741.775244608332, 'population': 0, 'individual': -1, 'metadata': b'', 'flags': 0}\n",
      "{'id': 249, 'time': 19192.75838856927, 'population': 1, 'individual': -1, 'metadata': b'', 'flags': 0}\n",
      "{'id': 250, 'time': 19641.53928006333, 'population': 1, 'individual': -1, 'metadata': b'', 'flags': 0}\n",
      "{'id': 251, 'time': 20611.428737592538, 'population': 0, 'individual': -1, 'metadata': b'', 'flags': 0}\n",
      "{'id': 252, 'time': 24153.728544302947, 'population': 0, 'individual': -1, 'metadata': b'', 'flags': 0}\n",
      "{'id': 253, 'time': 25864.235918579478, 'population': 1, 'individual': -1, 'metadata': b'', 'flags': 0}\n",
      "{'id': 254, 'time': 33746.17490954386, 'population': 1, 'individual': -1, 'metadata': b'', 'flags': 0}\n",
      "{'id': 255, 'time': 45196.77645636328, 'population': 1, 'individual': -1, 'metadata': b'', 'flags': 0}\n"
     ]
    }
   ],
   "source": [
    "for node in ts_eur.nodes():\n",
    "    print(node)"
   ]
  },
  {
   "cell_type": "code",
   "execution_count": 179,
   "metadata": {},
   "outputs": [],
   "source": [
    "ts_afr_rep = msprime.simulate(\n",
    "    samples=[msprime.Sample(0, 0)]*100,\n",
    "    length=50000, \n",
    "    mutation_rate=1.25e-8, \n",
    "    recombination_rate=1e-8,\n",
    "    random_seed=30,\n",
    "    num_replicates=5,\n",
    "    **model.asdict())\n",
    "\n",
    "for j, ts in enumerate(ts_afr_rep):\n",
    "    add_mnms(ts, \"gutenkunst_rep\"+str(j), \"afr\", 100, 0.015)\n",
    "\n",
    "    \n",
    "# ts_eur_rep = msprime.simulate(\n",
    "#     samples=[msprime.Sample(1, 0)]*100,\n",
    "#     length=50000, \n",
    "#     mutation_rate=1.25e-8, \n",
    "#     recombination_rate=1e-8,\n",
    "#     random_seed=30,\n",
    "#     num_replicates=5,\n",
    "#     **model.asdict())"
   ]
  },
  {
   "cell_type": "markdown",
   "metadata": {},
   "source": [
    "## tweaking code from ArchIE"
   ]
  },
  {
   "cell_type": "code",
   "execution_count": 214,
   "metadata": {},
   "outputs": [],
   "source": [
    "ref_geno = []\n",
    "with open(\"/mnt/norbert/home/jedidiah/projects/primeval/gutenkunst_eur_mnm100-0.015_0.geno\", 'r') as f:\n",
    "        for line in f:\n",
    "            ll = list(line)[:-1]\n",
    "            li = [int(i) for i in ll]\n",
    "            ref_geno.append(li)\n"
   ]
  },
  {
   "cell_type": "code",
   "execution_count": 230,
   "metadata": {},
   "outputs": [
    {
     "data": {
      "text/plain": [
       "100"
      ]
     },
     "execution_count": 230,
     "metadata": {},
     "output_type": "execute_result"
    }
   ],
   "source": [
    "len(ref_geno[1])"
   ]
  },
  {
   "cell_type": "code",
   "execution_count": 215,
   "metadata": {},
   "outputs": [],
   "source": [
    "geno = []\n",
    "with open(\"/mnt/norbert/home/jedidiah/projects/primeval/gutenkunst_afr_mnm100-0.015_0.geno\", 'r') as f:\n",
    "        for line in f:\n",
    "            ll = list(line)[:-1]\n",
    "            li = [int(i) for i in ll]\n",
    "            geno.append(li)"
   ]
  },
  {
   "cell_type": "code",
   "execution_count": 218,
   "metadata": {},
   "outputs": [
    {
     "ename": "ValueError",
     "evalue": "setting an array element with a sequence.",
     "output_type": "error",
     "traceback": [
      "\u001b[0;31m---------------------------------------------------------------------------\u001b[0m",
      "\u001b[0;31mValueError\u001b[0m                                Traceback (most recent call last)",
      "\u001b[0;32m<ipython-input-218-5646d3e31506>\u001b[0m in \u001b[0;36m<module>\u001b[0;34m\u001b[0m\n\u001b[1;32m      6\u001b[0m     \u001b[0mr_np\u001b[0m \u001b[0;34m=\u001b[0m \u001b[0mnp\u001b[0m\u001b[0;34m.\u001b[0m\u001b[0marray\u001b[0m\u001b[0;34m(\u001b[0m\u001b[0mr\u001b[0m\u001b[0;34m)\u001b[0m\u001b[0;34m\u001b[0m\u001b[0;34m\u001b[0m\u001b[0m\n\u001b[1;32m      7\u001b[0m     \u001b[0marr\u001b[0m \u001b[0;34m=\u001b[0m \u001b[0mnp\u001b[0m\u001b[0;34m.\u001b[0m\u001b[0marray\u001b[0m\u001b[0;34m(\u001b[0m\u001b[0;34m[\u001b[0m\u001b[0mf\u001b[0m\u001b[0;34m,\u001b[0m \u001b[0mr_np\u001b[0m\u001b[0;34m]\u001b[0m\u001b[0;34m)\u001b[0m\u001b[0;34m\u001b[0m\u001b[0;34m\u001b[0m\u001b[0m\n\u001b[0;32m----> 8\u001b[0;31m     \u001b[0md\u001b[0m\u001b[0;34m.\u001b[0m\u001b[0mappend\u001b[0m\u001b[0;34m(\u001b[0m\u001b[0mnp\u001b[0m\u001b[0;34m.\u001b[0m\u001b[0mmax\u001b[0m\u001b[0;34m(\u001b[0m\u001b[0msklearn\u001b[0m\u001b[0;34m.\u001b[0m\u001b[0mmetrics\u001b[0m\u001b[0;34m.\u001b[0m\u001b[0mpairwise\u001b[0m\u001b[0;34m.\u001b[0m\u001b[0mpairwise_distances\u001b[0m\u001b[0;34m(\u001b[0m\u001b[0marr\u001b[0m\u001b[0;34m)\u001b[0m\u001b[0;34m)\u001b[0m\u001b[0;34m)\u001b[0m\u001b[0;34m\u001b[0m\u001b[0;34m\u001b[0m\u001b[0m\n\u001b[0m",
      "\u001b[0;32m/opt/anaconda/anaconda3/lib/python3.6/site-packages/sklearn/metrics/pairwise.py\u001b[0m in \u001b[0;36mpairwise_distances\u001b[0;34m(X, Y, metric, n_jobs, **kwds)\u001b[0m\n\u001b[1;32m   1400\u001b[0m         \u001b[0mfunc\u001b[0m \u001b[0;34m=\u001b[0m \u001b[0mpartial\u001b[0m\u001b[0;34m(\u001b[0m\u001b[0mdistance\u001b[0m\u001b[0;34m.\u001b[0m\u001b[0mcdist\u001b[0m\u001b[0;34m,\u001b[0m \u001b[0mmetric\u001b[0m\u001b[0;34m=\u001b[0m\u001b[0mmetric\u001b[0m\u001b[0;34m,\u001b[0m \u001b[0;34m**\u001b[0m\u001b[0mkwds\u001b[0m\u001b[0;34m)\u001b[0m\u001b[0;34m\u001b[0m\u001b[0;34m\u001b[0m\u001b[0m\n\u001b[1;32m   1401\u001b[0m \u001b[0;34m\u001b[0m\u001b[0m\n\u001b[0;32m-> 1402\u001b[0;31m     \u001b[0;32mreturn\u001b[0m \u001b[0m_parallel_pairwise\u001b[0m\u001b[0;34m(\u001b[0m\u001b[0mX\u001b[0m\u001b[0;34m,\u001b[0m \u001b[0mY\u001b[0m\u001b[0;34m,\u001b[0m \u001b[0mfunc\u001b[0m\u001b[0;34m,\u001b[0m \u001b[0mn_jobs\u001b[0m\u001b[0;34m,\u001b[0m \u001b[0;34m**\u001b[0m\u001b[0mkwds\u001b[0m\u001b[0;34m)\u001b[0m\u001b[0;34m\u001b[0m\u001b[0;34m\u001b[0m\u001b[0m\n\u001b[0m\u001b[1;32m   1403\u001b[0m \u001b[0;34m\u001b[0m\u001b[0m\n\u001b[1;32m   1404\u001b[0m \u001b[0;34m\u001b[0m\u001b[0m\n",
      "\u001b[0;32m/opt/anaconda/anaconda3/lib/python3.6/site-packages/sklearn/metrics/pairwise.py\u001b[0m in \u001b[0;36m_parallel_pairwise\u001b[0;34m(X, Y, func, n_jobs, **kwds)\u001b[0m\n\u001b[1;32m   1067\u001b[0m \u001b[0;34m\u001b[0m\u001b[0m\n\u001b[1;32m   1068\u001b[0m     \u001b[0;32mif\u001b[0m \u001b[0meffective_n_jobs\u001b[0m\u001b[0;34m(\u001b[0m\u001b[0mn_jobs\u001b[0m\u001b[0;34m)\u001b[0m \u001b[0;34m==\u001b[0m \u001b[0;36m1\u001b[0m\u001b[0;34m:\u001b[0m\u001b[0;34m\u001b[0m\u001b[0;34m\u001b[0m\u001b[0m\n\u001b[0;32m-> 1069\u001b[0;31m         \u001b[0;32mreturn\u001b[0m \u001b[0mfunc\u001b[0m\u001b[0;34m(\u001b[0m\u001b[0mX\u001b[0m\u001b[0;34m,\u001b[0m \u001b[0mY\u001b[0m\u001b[0;34m,\u001b[0m \u001b[0;34m**\u001b[0m\u001b[0mkwds\u001b[0m\u001b[0;34m)\u001b[0m\u001b[0;34m\u001b[0m\u001b[0;34m\u001b[0m\u001b[0m\n\u001b[0m\u001b[1;32m   1070\u001b[0m \u001b[0;34m\u001b[0m\u001b[0m\n\u001b[1;32m   1071\u001b[0m     \u001b[0;31m# TODO: in some cases, backend='threading' may be appropriate\u001b[0m\u001b[0;34m\u001b[0m\u001b[0;34m\u001b[0m\u001b[0;34m\u001b[0m\u001b[0m\n",
      "\u001b[0;32m/opt/anaconda/anaconda3/lib/python3.6/site-packages/sklearn/metrics/pairwise.py\u001b[0m in \u001b[0;36meuclidean_distances\u001b[0;34m(X, Y, Y_norm_squared, squared, X_norm_squared)\u001b[0m\n\u001b[1;32m    222\u001b[0m     \u001b[0mpaired_distances\u001b[0m \u001b[0;34m:\u001b[0m \u001b[0mdistances\u001b[0m \u001b[0mbetweens\u001b[0m \u001b[0mpairs\u001b[0m \u001b[0mof\u001b[0m \u001b[0melements\u001b[0m \u001b[0mof\u001b[0m \u001b[0mX\u001b[0m \u001b[0;32mand\u001b[0m \u001b[0mY\u001b[0m\u001b[0;34m.\u001b[0m\u001b[0;34m\u001b[0m\u001b[0;34m\u001b[0m\u001b[0m\n\u001b[1;32m    223\u001b[0m     \"\"\"\n\u001b[0;32m--> 224\u001b[0;31m     \u001b[0mX\u001b[0m\u001b[0;34m,\u001b[0m \u001b[0mY\u001b[0m \u001b[0;34m=\u001b[0m \u001b[0mcheck_pairwise_arrays\u001b[0m\u001b[0;34m(\u001b[0m\u001b[0mX\u001b[0m\u001b[0;34m,\u001b[0m \u001b[0mY\u001b[0m\u001b[0;34m)\u001b[0m\u001b[0;34m\u001b[0m\u001b[0;34m\u001b[0m\u001b[0m\n\u001b[0m\u001b[1;32m    225\u001b[0m \u001b[0;34m\u001b[0m\u001b[0m\n\u001b[1;32m    226\u001b[0m     \u001b[0;32mif\u001b[0m \u001b[0mX_norm_squared\u001b[0m \u001b[0;32mis\u001b[0m \u001b[0;32mnot\u001b[0m \u001b[0;32mNone\u001b[0m\u001b[0;34m:\u001b[0m\u001b[0;34m\u001b[0m\u001b[0;34m\u001b[0m\u001b[0m\n",
      "\u001b[0;32m/opt/anaconda/anaconda3/lib/python3.6/site-packages/sklearn/metrics/pairwise.py\u001b[0m in \u001b[0;36mcheck_pairwise_arrays\u001b[0;34m(X, Y, precomputed, dtype)\u001b[0m\n\u001b[1;32m    106\u001b[0m     \u001b[0;32mif\u001b[0m \u001b[0mY\u001b[0m \u001b[0;32mis\u001b[0m \u001b[0mX\u001b[0m \u001b[0;32mor\u001b[0m \u001b[0mY\u001b[0m \u001b[0;32mis\u001b[0m \u001b[0;32mNone\u001b[0m\u001b[0;34m:\u001b[0m\u001b[0;34m\u001b[0m\u001b[0;34m\u001b[0m\u001b[0m\n\u001b[1;32m    107\u001b[0m         X = Y = check_array(X, accept_sparse='csr', dtype=dtype,\n\u001b[0;32m--> 108\u001b[0;31m                             warn_on_dtype=warn_on_dtype, estimator=estimator)\n\u001b[0m\u001b[1;32m    109\u001b[0m     \u001b[0;32melse\u001b[0m\u001b[0;34m:\u001b[0m\u001b[0;34m\u001b[0m\u001b[0;34m\u001b[0m\u001b[0m\n\u001b[1;32m    110\u001b[0m         X = check_array(X, accept_sparse='csr', dtype=dtype,\n",
      "\u001b[0;32m/opt/anaconda/anaconda3/lib/python3.6/site-packages/sklearn/utils/validation.py\u001b[0m in \u001b[0;36mcheck_array\u001b[0;34m(array, accept_sparse, accept_large_sparse, dtype, order, copy, force_all_finite, ensure_2d, allow_nd, ensure_min_samples, ensure_min_features, warn_on_dtype, estimator)\u001b[0m\n\u001b[1;32m    520\u001b[0m             \u001b[0;32mtry\u001b[0m\u001b[0;34m:\u001b[0m\u001b[0;34m\u001b[0m\u001b[0;34m\u001b[0m\u001b[0m\n\u001b[1;32m    521\u001b[0m                 \u001b[0mwarnings\u001b[0m\u001b[0;34m.\u001b[0m\u001b[0msimplefilter\u001b[0m\u001b[0;34m(\u001b[0m\u001b[0;34m'error'\u001b[0m\u001b[0;34m,\u001b[0m \u001b[0mComplexWarning\u001b[0m\u001b[0;34m)\u001b[0m\u001b[0;34m\u001b[0m\u001b[0;34m\u001b[0m\u001b[0m\n\u001b[0;32m--> 522\u001b[0;31m                 \u001b[0marray\u001b[0m \u001b[0;34m=\u001b[0m \u001b[0mnp\u001b[0m\u001b[0;34m.\u001b[0m\u001b[0masarray\u001b[0m\u001b[0;34m(\u001b[0m\u001b[0marray\u001b[0m\u001b[0;34m,\u001b[0m \u001b[0mdtype\u001b[0m\u001b[0;34m=\u001b[0m\u001b[0mdtype\u001b[0m\u001b[0;34m,\u001b[0m \u001b[0morder\u001b[0m\u001b[0;34m=\u001b[0m\u001b[0morder\u001b[0m\u001b[0;34m)\u001b[0m\u001b[0;34m\u001b[0m\u001b[0;34m\u001b[0m\u001b[0m\n\u001b[0m\u001b[1;32m    523\u001b[0m             \u001b[0;32mexcept\u001b[0m \u001b[0mComplexWarning\u001b[0m\u001b[0;34m:\u001b[0m\u001b[0;34m\u001b[0m\u001b[0;34m\u001b[0m\u001b[0m\n\u001b[1;32m    524\u001b[0m                 raise ValueError(\"Complex data not supported\\n\"\n",
      "\u001b[0;32m/opt/anaconda/anaconda3/lib/python3.6/site-packages/numpy/core/numeric.py\u001b[0m in \u001b[0;36masarray\u001b[0;34m(a, dtype, order)\u001b[0m\n\u001b[1;32m    490\u001b[0m \u001b[0;34m\u001b[0m\u001b[0m\n\u001b[1;32m    491\u001b[0m     \"\"\"\n\u001b[0;32m--> 492\u001b[0;31m     \u001b[0;32mreturn\u001b[0m \u001b[0marray\u001b[0m\u001b[0;34m(\u001b[0m\u001b[0ma\u001b[0m\u001b[0;34m,\u001b[0m \u001b[0mdtype\u001b[0m\u001b[0;34m,\u001b[0m \u001b[0mcopy\u001b[0m\u001b[0;34m=\u001b[0m\u001b[0;32mFalse\u001b[0m\u001b[0;34m,\u001b[0m \u001b[0morder\u001b[0m\u001b[0;34m=\u001b[0m\u001b[0morder\u001b[0m\u001b[0;34m)\u001b[0m\u001b[0;34m\u001b[0m\u001b[0;34m\u001b[0m\u001b[0m\n\u001b[0m\u001b[1;32m    493\u001b[0m \u001b[0;34m\u001b[0m\u001b[0m\n\u001b[1;32m    494\u001b[0m \u001b[0;34m\u001b[0m\u001b[0m\n",
      "\u001b[0;31mValueError\u001b[0m: setting an array element with a sequence."
     ]
    }
   ],
   "source": [
    "import sklearn.metrics.pairwise\n",
    "f = np.array(geno)[:,1]\n",
    "t_r = np.transpose(np.array(ref_geno))\n",
    "d = []\n",
    "for r in t_r:\n",
    "    r_np = np.array(r)\n",
    "    arr = np.array([f, r_np])\n",
    "    d.append(np.max(sklearn.metrics.pairwise.pairwise_distances(arr)))\n"
   ]
  },
  {
   "cell_type": "code",
   "execution_count": 221,
   "metadata": {},
   "outputs": [
    {
     "data": {
      "text/plain": [
       "array([array([1, 0, 0, 0, 0, 0, 0, 0, 0, 0, 0, 0, 1, 0, 1, 0, 0, 1, 0, 0, 0, 0,\n",
       "       1, 0, 0, 0, 0, 0, 0, 0, 0, 0, 0, 0, 0, 0, 0, 0, 1, 1, 0, 0, 0, 0,\n",
       "       1, 0, 0, 0, 0, 0, 0, 0, 0, 0, 0, 1, 0, 0, 0, 0, 0, 0, 0, 0, 0, 0,\n",
       "       0, 0, 0, 0, 0, 0, 0, 0, 0, 0, 0, 0, 1, 0, 0, 0, 0, 0, 0, 0, 0, 0,\n",
       "       0, 1, 0, 0, 0, 0, 0, 0, 0, 0, 0, 0, 0, 0, 0, 0, 0, 0, 0, 0, 0, 1,\n",
       "       0, 0, 0, 0, 0, 0, 0, 0, 0, 0, 0, 0, 0, 0, 0, 0, 0, 0, 0, 0, 0, 0,\n",
       "       0, 0, 0, 0]),\n",
       "       array([0, 0, 1, 1, 0, 1, 0, 0, 0, 0, 0, 1, 0, 1, 0, 1, 1, 1, 0, 0, 0, 0,\n",
       "       0, 0, 0, 0, 0, 0, 0, 1, 0, 0, 0, 0, 0, 0, 0, 0, 0, 0, 1, 1, 1, 0,\n",
       "       0, 1, 1, 0, 0, 0, 1, 0, 0, 0, 1, 1, 0, 0, 0, 0, 0, 1, 0, 0, 0, 0,\n",
       "       0, 0, 0, 1, 0, 0, 0, 0, 0, 0, 0, 0, 0, 0, 0, 1, 0, 0, 0, 0, 0, 1,\n",
       "       1, 0, 0, 0, 0, 0, 0, 0, 0, 0, 0, 0, 0, 0, 0, 1, 0, 0, 0])],\n",
       "      dtype=object)"
      ]
     },
     "execution_count": 221,
     "metadata": {},
     "output_type": "execute_result"
    }
   ],
   "source": [
    "arr"
   ]
  },
  {
   "cell_type": "markdown",
   "metadata": {},
   "source": [
    "## Playing with recombination breakpoints"
   ]
  },
  {
   "cell_type": "code",
   "execution_count": 89,
   "metadata": {},
   "outputs": [
    {
     "name": "stdout",
     "output_type": "stream",
     "text": [
      "[184.00372941605835, 270.17435065241864, 321.9186329101023, 1116.9072243191551, 2812.822350024437, 2874.662168993303, 3072.167747437993, 3506.662324887389, 3690.4728048691695]\n"
     ]
    }
   ],
   "source": [
    "print(list(ts.breakpoints())[1:10])"
   ]
  },
  {
   "cell_type": "code",
   "execution_count": 92,
   "metadata": {},
   "outputs": [],
   "source": [
    "from bisect import bisect_left\n",
    "\n",
    "def takeClosest(myList, myNumber):\n",
    "    \"\"\"\n",
    "    Assumes myList is sorted. Returns closest value to myNumber.\n",
    "\n",
    "    If two numbers are equally close, return the smallest number.\n",
    "    \"\"\"\n",
    "    pos = bisect_left(myList, myNumber)\n",
    "    if pos == 0:\n",
    "        return myList[0]\n",
    "    if pos == len(myList):\n",
    "        return myList[-1]\n",
    "    before = myList[pos - 1]\n",
    "    after = myList[pos]\n",
    "    return after\n",
    "#     if after - myNumber < myNumber - before:\n",
    "#        return after\n",
    "#     else:\n",
    "#        return before"
   ]
  },
  {
   "cell_type": "code",
   "execution_count": 94,
   "metadata": {},
   "outputs": [
    {
     "data": {
      "text/plain": [
       "2874.662168993303"
      ]
     },
     "execution_count": 94,
     "metadata": {},
     "output_type": "execute_result"
    }
   ],
   "source": [
    "takeClosest(list(ts.breakpoints()), 2813)"
   ]
  }
 ],
 "metadata": {
  "kernelspec": {
   "display_name": "anaconda",
   "language": "python",
   "name": "anaconda"
  },
  "language_info": {
   "codemirror_mode": {
    "name": "ipython",
    "version": 3
   },
   "file_extension": ".py",
   "mimetype": "text/x-python",
   "name": "python",
   "nbconvert_exporter": "python",
   "pygments_lexer": "ipython3",
   "version": "3.6.8"
  }
 },
 "nbformat": 4,
 "nbformat_minor": 2
}
