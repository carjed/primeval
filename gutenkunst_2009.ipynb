{
 "cells": [
  {
   "cell_type": "code",
   "execution_count": null,
   "metadata": {},
   "outputs": [],
   "source": [
    "import msprime\n",
    "import numpy as np\n",
    "import pandas as pd\n",
    "import math\n",
    "from random import shuffle\n",
    "from primeval import *"
   ]
  },
  {
   "cell_type": "markdown",
   "metadata": {},
   "source": [
    "### Code for the Gutenkunst et al. (2009) model\n",
    "\n",
    "### Actual function is found in primeval.py file\n",
    "\n",
    "This is adapted from the demographic model example provided in the [msprime documentation](https://msprime.readthedocs.io/en/stable/tutorial.html#demography)\n",
    "\n",
    "```python\n",
    "def gutenkunst_model(mu=1.5e-8, phi=0, length=1e4, n_afr=0, n_eas=0, n_eur=0, debug=False):\n",
    "    # First we set out the maximum likelihood values of the various parameters\n",
    "    # given in Table 1.\n",
    "    N_A = 7300\n",
    "    N_B = 2100\n",
    "    N_AF = 12300\n",
    "    N_EU0 = 1000\n",
    "    N_AS0 = 510\n",
    "    # Times are provided in years, so we convert into generations.\n",
    "    generation_time = 25\n",
    "    T_AF = 220e3 / generation_time\n",
    "    T_B = 140e3 / generation_time\n",
    "    T_EU_AS = 21.2e3 / generation_time\n",
    "    # We need to work out the starting (diploid) population sizes based on\n",
    "    # the growth rates provided for these two populations\n",
    "    r_EU = 0.004\n",
    "    r_AS = 0.0055\n",
    "    N_EU = N_EU0 / math.exp(-r_EU * T_EU_AS)\n",
    "    N_AS = N_AS0 / math.exp(-r_AS * T_EU_AS)\n",
    "    # Migration rates during the various epochs.\n",
    "    m_AF_B = 25e-5\n",
    "    m_AF_EU = 3e-5\n",
    "    m_AF_AS = 1.9e-5\n",
    "    m_EU_AS = 9.6e-5\n",
    "    # Population IDs correspond to their indexes in the population\n",
    "    # configuration array. Therefore, we have 0=YRI, 1=CEU and 2=CHB\n",
    "    # initially.\n",
    "    population_configurations = [\n",
    "        msprime.PopulationConfiguration(\n",
    "            sample_size=n_afr, initial_size=N_AF),\n",
    "        msprime.PopulationConfiguration(\n",
    "            sample_size=n_eur, initial_size=N_EU, growth_rate=r_EU),\n",
    "        msprime.PopulationConfiguration(\n",
    "            sample_size=n_eas, initial_size=N_AS, growth_rate=r_AS)\n",
    "    ]\n",
    "    migration_matrix = [\n",
    "        [      0, m_AF_EU, m_AF_AS],\n",
    "        [m_AF_EU,       0, m_EU_AS],\n",
    "        [m_AF_AS, m_EU_AS,       0],\n",
    "    ]\n",
    "    demographic_events = [\n",
    "        # CEU and CHB merge into B with rate changes at T_EU_AS\n",
    "        msprime.MassMigration(\n",
    "            time=T_EU_AS, source=2, destination=1, proportion=1.0),\n",
    "        msprime.MigrationRateChange(time=T_EU_AS, rate=0),\n",
    "        msprime.MigrationRateChange(\n",
    "            time=T_EU_AS, rate=m_AF_B, matrix_index=(0, 1)),\n",
    "        msprime.MigrationRateChange(\n",
    "            time=T_EU_AS, rate=m_AF_B, matrix_index=(1, 0)),\n",
    "        msprime.PopulationParametersChange(\n",
    "            time=T_EU_AS, initial_size=N_B, growth_rate=0, population_id=1),\n",
    "        # Population B merges into YRI at T_B\n",
    "        msprime.MassMigration(\n",
    "            time=T_B, source=1, destination=0, proportion=1.0),\n",
    "        # Size changes to N_A at T_AF\n",
    "        msprime.PopulationParametersChange(\n",
    "            time=T_AF, initial_size=N_A, population_id=0)\n",
    "    ]\n",
    "    \n",
    "    if debug:\n",
    "        # Use the demography debugger to print out the demographic history\n",
    "        # that we have just described.\n",
    "        dd = msprime.DemographyDebugger(\n",
    "            population_configurations=population_configurations,\n",
    "            migration_matrix=migration_matrix,\n",
    "            demographic_events=demographic_events)\n",
    "        dd.print_history()\n",
    "    else:\n",
    "        sim = msprime.simulate(population_configurations=population_configurations,\n",
    "                               migration_matrix=migration_matrix, \n",
    "                               demographic_events=demographic_events,\n",
    "                               mutation_rate=mu, \n",
    "                               recombination_rate=phi, \n",
    "                               length=length,\n",
    "                               random_seed=30)\n",
    "        return sim\n",
    "```"
   ]
  },
  {
   "cell_type": "markdown",
   "metadata": {},
   "source": [
    "### Run with debugging to check correct parameters at each epoch"
   ]
  },
  {
   "cell_type": "code",
   "execution_count": null,
   "metadata": {},
   "outputs": [],
   "source": [
    "gutenkunst_model(debug=True)"
   ]
  }
 ],
 "metadata": {
  "kernelspec": {
   "display_name": "anaconda",
   "language": "python",
   "name": "anaconda"
  },
  "language_info": {
   "codemirror_mode": {
    "name": "ipython",
    "version": 3
   },
   "file_extension": ".py",
   "mimetype": "text/x-python",
   "name": "python",
   "nbconvert_exporter": "python",
   "pygments_lexer": "ipython3",
   "version": "3.6.5"
  }
 },
 "nbformat": 4,
 "nbformat_minor": 2
}
